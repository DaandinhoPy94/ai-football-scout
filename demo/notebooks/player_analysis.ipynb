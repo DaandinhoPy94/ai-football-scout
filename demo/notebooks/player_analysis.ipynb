{
"cells": [
{
"cell_type": "markdown",
"metadata": {},
"source": [
"# 🤖 AI Football Scout - Player Analysis Demo\n",
"\n",
"Complete analysis van speler performance met computer vision en ML."
]
},
{
"cell_type": "code",
"execution_count": null,
"metadata": {},
"source": [
"import sys\n",
"sys.path.append('../')\n",
"\n",
"from vision.detectors.player_detector import FootballVisionPipeline\n",
"from ml.models.performance_predictor import PlayerPerformanceModel\n",
"import cv2\n",
"import matplotlib.pyplot as plt"
]
}
],
"metadata": {
"kernelspec": {
"display_name": "Python 3",
"language": "python",
"name": "python3"
}
},
"nbformat": 4,
"nbformat_minor": 4
}
